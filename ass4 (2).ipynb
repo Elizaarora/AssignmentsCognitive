{
 "cells": [
  {
   "cell_type": "code",
   "execution_count": 1,
   "id": "70abd7a7-98d0-4e6f-930c-5e32aab595bb",
   "metadata": {},
   "outputs": [
    {
     "name": "stdout",
     "output_type": "stream",
     "text": [
      "[3 4 5 6 7]\n"
     ]
    }
   ],
   "source": [
    "import numpy as np\n",
    "arr=np.array([1,2,3,4,5])\n",
    "print(arr+2)"
   ]
  },
  {
   "cell_type": "code",
   "execution_count": 2,
   "id": "e81ef1cf-3456-4a9a-a923-d8c39cb829aa",
   "metadata": {},
   "outputs": [
    {
     "name": "stdout",
     "output_type": "stream",
     "text": [
      "[ 3  6  9 12 15]\n"
     ]
    }
   ],
   "source": [
    "print(arr*3)"
   ]
  },
  {
   "cell_type": "code",
   "execution_count": 3,
   "id": "c6d2e250-5d44-4d29-8d26-08d17e600442",
   "metadata": {},
   "outputs": [
    {
     "name": "stdout",
     "output_type": "stream",
     "text": [
      "[0.5 1.  1.5 2.  2.5]\n"
     ]
    }
   ],
   "source": [
    "print(arr/2)"
   ]
  },
  {
   "cell_type": "code",
   "execution_count": 4,
   "id": "48df6b0e-48a1-44f1-8035-1f4b20428d75",
   "metadata": {},
   "outputs": [
    {
     "name": "stdout",
     "output_type": "stream",
     "text": [
      "[5 4 3 2 1]\n"
     ]
    }
   ],
   "source": [
    "reversedArr=arr[::-1]\n",
    "print(reversedArr)"
   ]
  },
  {
   "cell_type": "code",
   "execution_count": 5,
   "id": "b91b7e70-347b-40f2-9dee-d96e44601a6b",
   "metadata": {},
   "outputs": [
    {
     "name": "stdout",
     "output_type": "stream",
     "text": [
      "1\n",
      "1\n"
     ]
    }
   ],
   "source": [
    "x=np.array([1,2,3,4,5,1,2,1,1,1])\n",
    "y=np.array([1,1,1,2,3,4,2,4,3,3])\n",
    "print(np.bincount(x).argmax())\n",
    "print(np.bincount(y).argmax())"
   ]
  },
  {
   "cell_type": "code",
   "execution_count": 6,
   "id": "0ac2c176-11ba-45c4-8347-c637d40e6155",
   "metadata": {},
   "outputs": [
    {
     "name": "stdout",
     "output_type": "stream",
     "text": [
      "20\n"
     ]
    }
   ],
   "source": [
    "arr1=np.array([[10,20,30],[40,50,60],[70,80,90]])\n",
    "print(arr1[0,1])"
   ]
  },
  {
   "cell_type": "code",
   "execution_count": 7,
   "id": "eb4ca0d6-e338-454a-9cec-987d07aa09d3",
   "metadata": {},
   "outputs": [
    {
     "name": "stdout",
     "output_type": "stream",
     "text": [
      "80\n"
     ]
    }
   ],
   "source": [
    "print(arr1[2,1])"
   ]
  },
  {
   "cell_type": "code",
   "execution_count": 8,
   "id": "9c969a2d-ed11-4c7d-a778-fdc45da35fe8",
   "metadata": {},
   "outputs": [
    {
     "name": "stdout",
     "output_type": "stream",
     "text": [
      "[ 10.    13.75  17.5   21.25  25.    28.75  32.5   36.25  40.    43.75\n",
      "  47.5   51.25  55.    58.75  62.5   66.25  70.    73.75  77.5   81.25\n",
      "  85.    88.75  92.5   96.25 100.  ]\n",
      "1\n",
      "(25,)\n",
      "25\n",
      "float64\n",
      "200\n",
      "[25]\n"
     ]
    }
   ],
   "source": [
    "james=np.linspace(10,100,num=25)\n",
    "print(james)\n",
    "print(james.ndim)\n",
    "print(james.shape) #1d array\n",
    "print(james.size)\n",
    "print(james.dtype)\n",
    "print(james.nbytes)\n",
    "transpose=np.reshape(25,1)\n",
    "print(transpose)"
   ]
  },
  {
   "cell_type": "code",
   "execution_count": 20,
   "id": "9e1d6dc1-02a0-4131-bdc3-63ecdde16100",
   "metadata": {},
   "outputs": [
    {
     "name": "stdout",
     "output_type": "stream",
     "text": [
      "43.333333333333336\n",
      "37.5\n",
      "90\n",
      "10\n",
      "[10 15 20 30 35 40 50 60 70 80 90]\n",
      "[[10 20 30]\n",
      " [40 50 60]\n",
      " [70 80 90]\n",
      " [15 20 35]]\n",
      "[[10 20 30]\n",
      " [40 50 60]]\n"
     ]
    }
   ],
   "source": [
    "john=np.array([[10,20,30,40],[50,60,70,80],[90,15,20,35]])\n",
    "print(np.mean(john))\n",
    "print(np.median(john))\n",
    "print(np.max(john))\n",
    "print(np.min(john))\n",
    "print(np.unique(john))\n",
    "reshaped_john=np.reshape(john,(4,3))\n",
    "print(reshaped_john)\n",
    "resized_john=np.resize(john,(2,3))\n",
    "print(resized_john)"
   ]
  },
  {
   "cell_type": "code",
   "execution_count": null,
   "id": "8ae9346a-64f9-4eb7-a090-2a475466878d",
   "metadata": {},
   "outputs": [],
   "source": []
  }
 ],
 "metadata": {
  "kernelspec": {
   "display_name": "Python [conda env:base] *",
   "language": "python",
   "name": "conda-base-py"
  },
  "language_info": {
   "codemirror_mode": {
    "name": "ipython",
    "version": 3
   },
   "file_extension": ".py",
   "mimetype": "text/x-python",
   "name": "python",
   "nbconvert_exporter": "python",
   "pygments_lexer": "ipython3",
   "version": "3.11.7"
  }
 },
 "nbformat": 4,
 "nbformat_minor": 5
}
